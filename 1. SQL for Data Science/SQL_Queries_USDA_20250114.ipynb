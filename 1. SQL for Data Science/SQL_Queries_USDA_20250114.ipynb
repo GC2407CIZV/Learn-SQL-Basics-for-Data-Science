{
  "cells": [
    {
      "cell_type": "markdown",
      "metadata": {},
      "source": [
        "# <strong>SQL Queries for USDA Production Data Analysis</strong>\n",
        "\n",
        "This notebook contains SQL queries to analyze the USDA production database. \n",
        "Make sure to have the `USDA_production.sqlite` database file in the same directory as this notebook.\n",
        "\n",
        "<strong>I recommend using \"DB Browser\" to explore and interact with the database. It's simple to create tables and efficiently view and retrieve data.</strong>\n",
        "\n",
        "### <strong>Instructions:</strong>\n",
        "1. Execute the cells step by step to run the queries.\n",
        "2. Read the explanations in the markdown cells for insights into each query's purpose.\n",
        "3. Modify the queries if needed to adapt them to specific scenarios.\n",
        " \n",
        "### <strong>Scenario:</strong>\n",
        "Data Scientist at USDA (United States Department of Agriculture)\n",
        "\n",
        "### <strong>Context:</strong>\n",
        "You are a Data Scientist working at the USDA. Your department has been tracking the production of various agricultural commodities across different states. \n",
        "\n",
        "Your datasets include:\n",
        "\n",
        "`milk_production`, `cheese_production`, `coffee_production`, `honey_production`, `yogurt_production`, and a `state_lookup` table. \n",
        "\n",
        "The data spans multiple years and states, with varying levels of production for each commodity.\n",
        "\n",
        "Your manager has requested that you generate insights from this data to aid in future planning and decision-making. You'll need to use SQL queries to answer the questions that come up in meetings, reports, or strategic discussions.\n",
        "\n",
        "### <strong>Objectives:</strong>\n",
        "Assess state-by-state production for each commodity.\n",
        "\n",
        "Identify trends or anomalies.\n",
        "\n",
        "Offer data-backed suggestions for areas that may need more attention.\n",
        "\n",
        "\n",
        "NOTE: All answer entries are numeric and only numbers and periods. The autograder does not accept commas for the final project."
      ]
    },
    {
      "cell_type": "code",
      "execution_count": null,
      "metadata": {
        "trusted": true
      },
      "outputs": [],
      "source": [
        "# Import necessary libraries\n",
        "import sqlite3\n",
        "import pandas as pd\n",
        "\n",
        "# Connect to the USDA production database\n",
        "conn = sqlite3.connect('USDA_production.sqlite')\n",
        "cursor = conn.cursor()\n",
        "print('Database connection established.')"
      ]
    },
    {
      "cell_type": "markdown",
      "metadata": {},
      "source": [
        "#### <strong>Question 1</Strong> \n",
        "Can you find out the total milk production for 2023? Your manager wants this information for the yearly report.\n",
        "\n",
        "What is the total milk production for 2023?."
      ]
    },
    {
      "cell_type": "code",
      "execution_count": null,
      "metadata": {
        "trusted": true
      },
      "outputs": [],
      "source": [
        "# SQL Query to calculate the total milk production for the year 2023.\n",
        "query = \"\"\"\n",
        "SELECT Year, SUM(Value) AS Total_Value\n",
        "FROM milk_production\n",
        "WHERE Year = 2023;\n",
        "\"\"\"\n",
        "\n",
        "df = pd.read_sql_query(query, conn)\n",
        "df"
      ]
    },
    {
      "cell_type": "markdown",
      "metadata": {},
      "source": [
        "#### <strong>Question 2</strong>\n",
        "Which states had cheese production greater than 100 million in April 2023? The Cheese Department wants to focus their marketing efforts there. \n",
        "\n",
        "How many states are there?"
      ]
    },
    {
      "cell_type": "code",
      "execution_count": null,
      "metadata": {},
      "outputs": [],
      "source": [
        "# SQL Query to retrieve cheese production values greater than 100 million in 2023,\n",
        "# including state names and ANSI codes for better context.\n",
        "query = \"\"\"\n",
        "SELECT c.Year, c.Period, c.State_ANSI, s.State, c.Value\n",
        "FROM state_lookup s\n",
        "JOIN cheese_production c on c.State_ANSI = s.State_ANSI\n",
        "WHERE c.Value > 100000000 AND c.Year = 2023 AND c.Period = 'APR';\n",
        "\"\"\"\n",
        "df = pd.read_sql_query(query, conn)\n",
        "df"
      ]
    },
    {
      "cell_type": "markdown",
      "metadata": {},
      "source": [
        "#### <strong>Question 3</strong>\n",
        "Your manager wants to know how coffee production has changed over the years. \n",
        "\n",
        "What is the total value of coffee production for 2011?"
      ]
    },
    {
      "cell_type": "code",
      "execution_count": null,
      "metadata": {},
      "outputs": [],
      "source": [
        "# SQL Query to calculate the total coffee production for the year 2011.\n",
        "query = \"\"\"\n",
        "SELECT SUM(Value) AS Total_Value\n",
        "FROM coffee_production\n",
        "WHERE Year = 2011;\n",
        "\"\"\"\n",
        "df = pd.read_sql_query(query, conn)\n",
        "df"
      ]
    },
    {
      "cell_type": "markdown",
      "metadata": {},
      "source": [
        "#### <strong>Question 4</strong>\n",
        "There's a meeting with the Honey Council next week. Find the average honey production for 2022 so you're prepared."
      ]
    },
    {
      "cell_type": "code",
      "execution_count": null,
      "metadata": {},
      "outputs": [],
      "source": [
        "# SQL Query to calculate the average honey production for the year 2022.\n",
        "query = \"\"\"\n",
        "SELECT AVG(Value)\n",
        "FROM honey_production\n",
        "WHERE Year = 2022;\n",
        "\"\"\"\n",
        "df = pd.read_sql_query(query, conn)\n",
        "df"
      ]
    },
    {
      "cell_type": "markdown",
      "metadata": {},
      "source": [
        "#### <strong>Question 5</strong> \n",
        "The State Relations team wants a list of all states names with their corresponding ANSI codes. Can you generate that list?\n",
        "\n",
        "What is the State_ANSI code for Florida?"
      ]
    },
    {
      "cell_type": "code",
      "execution_count": null,
      "metadata": {},
      "outputs": [],
      "source": [
        "# SQL Query to retrieve the ANSI code for the state of Florida.\n",
        "query = \"\"\"\n",
        "SELECT State, State_ANSI\n",
        "FROM state_lookup\n",
        "WHERE State = \"FLORIDA\";\n",
        "\"\"\"\n",
        "df = pd.read_sql_query(query, conn)\n",
        "df"
      ]
    },
    {
      "cell_type": "markdown",
      "metadata": {},
      "source": [
        "#### <strong>Question 6</strong>\n",
        "For a cross-commodity report, can you list all states with their cheese production values, even if they didn't produce any cheese in April of 2023?\n",
        "\n",
        "What is the total for NEW JERSEY?"
      ]
    },
    {
      "cell_type": "code",
      "execution_count": null,
      "metadata": {
        "trusted": true
      },
      "outputs": [],
      "source": [
        "# SQL Query to find the total cheese production in New Jersey in April 2023.\n",
        "query = \"\"\"\n",
        "SELECT s.State, s.State_ANSI, SUM(c.Value) AS Total_Value\n",
        "FROM state_lookup s\n",
        "JOIN cheese_production c on s.State_ANSI = c.State_ANSI\n",
        "WHERE State = \"NEW JERSEY\" AND c.Year = 2023 \n",
        "AND c.Period='APR';\n",
        "\"\"\"\n",
        "df = pd.read_sql_query(query, conn)\n",
        "df"
      ]
    },
    {
      "cell_type": "markdown",
      "metadata": {},
      "source": [
        "#### <strong>Question 7</strong>\n",
        "Can you find the total yogurt production for states in the year 2022 which also have cheese production data from 2023? This will help the Dairy Division in their planning."
      ]
    },
    {
      "cell_type": "code",
      "execution_count": null,
      "metadata": {
        "trusted": true
      },
      "outputs": [],
      "source": [
        "# SQL Query to calculate the total yogurt production in 2022\n",
        "# for states that also have cheese production data for 2022.\n",
        "query = \"\"\"\n",
        "SELECT sum(y.Value) AS Total_Value\n",
        "FROM yogurt_production y \n",
        "WHERE y.State_ANSI IN (\n",
        "SELECT DISTINCT c.State_ANSI \n",
        "FROM cheese_production c \n",
        "WHERE c.Year = 2023) AND y.Year = 2022; \n",
        "\"\"\"\n",
        "df = pd.read_sql_query(query, conn)\n",
        "df"
      ]
    },
    {
      "cell_type": "markdown",
      "metadata": {},
      "source": [
        "#### <strong>Question 8</strong>\n",
        "List all states from state_lookup that are missing from milk_production in 2023.\n",
        "\n",
        "How many states are there?"
      ]
    },
    {
      "cell_type": "code",
      "execution_count": null,
      "metadata": {
        "trusted": true
      },
      "outputs": [],
      "source": [
        "# SQL Query to list states that do not appear in the milk production data for 2023.\n",
        "query = \"\"\"\n",
        "SELECT count(s.State) AS Total_states\n",
        "FROM state_lookup s\n",
        "WHERE s.State_ANSI NOT IN (\n",
        "\tSELECT DISTINCT m.State_ANSI \n",
        "\tFROM milk_production m \n",
        "\tWHERE m.Year = 2023);\n",
        "\"\"\"\n",
        "df = pd.read_sql_query(query, conn)\n",
        "df"
      ]
    },
    {
      "cell_type": "markdown",
      "metadata": {},
      "source": [
        "#### <strong>Question 9</strong>\n",
        "List all states with their cheese production values, including states that didn't produce any cheese in April 2023.\n",
        "\n",
        "Did Delaware produce any cheese in April 2023?"
      ]
    },
    {
      "cell_type": "code",
      "execution_count": null,
      "metadata": {
        "trusted": true
      },
      "outputs": [],
      "source": [
        "# SQL Query to check if Delaware produced cheese in 2023.\n",
        "query = \"\"\"\n",
        "SELECT s.State, s.State_ANSI, c.Value, c.Year\n",
        "FROM state_lookup s\n",
        "JOIN cheese_production c on s.State_ANSI = c.State_ANSI\n",
        "WHERE c.Year = 2023 AND s.State = 'DELAWARE';\n",
        "\"\"\"\n",
        "df = pd.read_sql_query(query, conn)\n",
        "df"
      ]
    },
    {
      "cell_type": "markdown",
      "metadata": {},
      "source": [
        "#### <strong>Question 10</strong>\n",
        "Find the average coffee production for all years where the honey production exceeded 1 million."
      ]
    },
    {
      "cell_type": "code",
      "execution_count": null,
      "metadata": {
        "trusted": true
      },
      "outputs": [],
      "source": [
        "# SQL Query to find the average coffee production for all years\n",
        "# where total honey production exceeded 1 million.\n",
        "query = \"\"\"\n",
        "SELECT AVG(c.Value) AS Average_Value\n",
        "FROM coffee_production c\n",
        "WHERE c.Year IN (\n",
        "    SELECT h.Year\n",
        "    FROM honey_production h\n",
        "    GROUP BY h.Year\n",
        "    HAVING SUM(h.Value) > 1000000);\n",
        "\"\"\"\n",
        "df = pd.read_sql_query(query, conn)\n",
        "df"
      ]
    },
    {
      "cell_type": "markdown",
      "metadata": {},
      "source": [
        "## Closing the Database Connection\n",
        "After completing the queries, close the database connection."
      ]
    },
    {
      "cell_type": "code",
      "execution_count": null,
      "metadata": {},
      "outputs": [],
      "source": [
        "# Close the database connection\n",
        "conn.close()\n",
        "print('Database connection closed.')"
      ]
    }
  ],
  "metadata": {
    "kernelspec": {
      "display_name": "Python 3",
      "language": "python",
      "name": "python3"
    },
    "language_info": {
      "codemirror_mode": {
        "name": "ipython",
        "version": 3
      },
      "file_extension": ".py",
      "mimetype": "text/x-python",
      "name": "python",
      "nbconvert_exporter": "python",
      "pygments_lexer": "ipython3",
      "version": "3.13.1"
    }
  },
  "nbformat": 4,
  "nbformat_minor": 4
}
